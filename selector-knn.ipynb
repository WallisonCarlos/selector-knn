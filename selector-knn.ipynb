{
 "cells": [
  {
   "cell_type": "code",
   "execution_count": 37,
   "metadata": {},
   "outputs": [],
   "source": [
    "import pandas as pd\n",
    "from math import sqrt\n",
    "import csv"
   ]
  },
  {
   "cell_type": "code",
   "execution_count": 2,
   "metadata": {},
   "outputs": [
    {
     "data": {
      "text/plain": [
       "'\\nPara o nosso caso eu já separei duas bases de dados com os dados para treinar o nosso algoritmo e uma base para\\ntestarmos. Porém, o comum é usar uma base e dividi-la em uma certa porcentagem (ex.: 80.0% para teste - 20.0% para\\ntreino) alocando os dados aleatóriamente nas duas bases. \\nEntão porque decidimos serpar nós mesmos as duas bases?\\nPorque na nossa base de treinamento todas as respostas das 10 questões tendem a classe na qual aquela linha foi\\nclassificada. Assim, acredita-se que obteremos uma melhor classificação de qual classe o individuo está mais \\npróximo.\\n'"
      ]
     },
     "execution_count": 2,
     "metadata": {},
     "output_type": "execute_result"
    }
   ],
   "source": [
    "'''\n",
    "Para o nosso caso eu já separei duas bases de dados com os dados para treinar o nosso algoritmo e uma base para\n",
    "testarmos. Porém, o comum é usar uma base e dividi-la em uma certa porcentagem (ex.: 80.0% para teste - 20.0% para\n",
    "treino) alocando os dados aleatóriamente nas duas bases. \n",
    "Então porque decidimos serpar nós mesmos as duas bases?\n",
    "Porque na nossa base de treinamento todas as respostas das 10 questões tendem a classe na qual aquela linha foi\n",
    "classificada. Assim, acredita-se que obteremos uma melhor classificação de qual classe o individuo está mais \n",
    "próximo.\n",
    "'''"
   ]
  },
  {
   "cell_type": "code",
   "execution_count": null,
   "metadata": {},
   "outputs": [],
   "source": [
    "'''\n",
    "Função usada para carregar os dados dos arquivos CSV\n",
    "'''"
   ]
  },
  {
   "cell_type": "code",
   "execution_count": 12,
   "metadata": {},
   "outputs": [],
   "source": [
    "def load_csv(filename):\n",
    "    dataset = list()\n",
    "    with open(filename, 'r') as file:\n",
    "        csv_reader = csv.reader(file)\n",
    "        for row in csv_reader:\n",
    "            if not row:\n",
    "                continue\n",
    "            dataset.append(row)\n",
    "        return dataset"
   ]
  },
  {
   "cell_type": "code",
   "execution_count": 13,
   "metadata": {},
   "outputs": [],
   "source": [
    "train_data = load_csv(\"./training.csv\")\n",
    "test_data = load_csv(\"./testing.csv\")"
   ]
  },
  {
   "cell_type": "code",
   "execution_count": 5,
   "metadata": {},
   "outputs": [
    {
     "data": {
      "text/plain": [
       "'\\nVamos usar essa função para calcular as distancias entre os pontos para que possamos agrupar em clusters\\ne classificar os nossos dados.\\nA a função matemática escolhida aqui para o nosso caso foi a a Distância de euclidiana. Porém, existem outras\\ncomo por exemplo a distância de Manhatan, distância Mahalanobis, etc.\\nAgora vamos para a função!!\\nA função distance recebe três parâmetros: X1, X2, data.\\n    -X1: vetor de informações de um dado qualquer\\n    -X2: vetor de informações de um dado qualquer\\n    data: todos vetores incluindo X1 e X2 para podermos calcular a matrix de covariância.\\nSegue o link para mais informações sobre a Distância de Mahalanobis:\\nhttps://pt.wikipedia.org/wiki/Dist%C3%A2ncia_de_Mahalanobis\\n'"
      ]
     },
     "execution_count": 5,
     "metadata": {},
     "output_type": "execute_result"
    }
   ],
   "source": [
    "'''\n",
    "Vamos usar essa função para calcular as distancias entre os pontos para que possamos agrupar em clusters\n",
    "e classificar os nossos dados.\n",
    "A a função matemática escolhida aqui para o nosso caso foi a a Distância euclidiana. Porém, existem outras\n",
    "como por exemplo a distância de Manhatan, distância Mahalanobis, etc.\n",
    "Agora vamos para a função!!\n",
    "A função distance recebe três parâmetros: X1, X2, data.\n",
    "    -X1: vetor de informações de um dado qualquer\n",
    "    -X2: vetor de informações de um dado qualquer\n",
    "Segue o link para mais informações sobre a Distância de euclidiana:\n",
    "https://pt.wikipedia.org/wiki/Dist%C3%A2ncia_euclidiana\n",
    "'''"
   ]
  },
  {
   "cell_type": "code",
   "execution_count": 25,
   "metadata": {},
   "outputs": [],
   "source": [
    "def distance(X1, X2):\n",
    "    sum = 0.0\n",
    "    for i in range (len(X1)-1):\n",
    "        sum += (float(X1[i]) - float(X2[i])) * (float(X1[i]) - float(X2[i]))\n",
    "    return sqrt(sum)\n",
    "        "
   ]
  },
  {
   "cell_type": "code",
   "execution_count": null,
   "metadata": {},
   "outputs": [],
   "source": [
    "'''\n",
    "Função auxiliar para transformar as Classes em inteiros\n",
    "'''"
   ]
  },
  {
   "cell_type": "code",
   "execution_count": 15,
   "metadata": {},
   "outputs": [],
   "source": [
    "def str_column_to_int(dataset, column):\n",
    "    class_values = [row[column] for row in dataset]\n",
    "    unique = set(class_values)\n",
    "    lookup = dict()\n",
    "    for i, value in enumerate(unique):\n",
    "        lookup[value] = i\n",
    "        print('[%s] => %d' % (value, i))\n",
    "    for row in dataset:\n",
    "        row[column] = lookup[row[column]]\n",
    "    return lookup"
   ]
  },
  {
   "cell_type": "code",
   "execution_count": null,
   "metadata": {},
   "outputs": [],
   "source": [
    "'''\n",
    "Para evitar qualquer problema de tipo, essa função pode ser usada para converter os dados.\n",
    "'''"
   ]
  },
  {
   "cell_type": "code",
   "execution_count": 16,
   "metadata": {},
   "outputs": [],
   "source": [
    "def str_column_to_float(dataset, column):\n",
    "    for row in dataset:\n",
    "        row[column] = float(row[column].strip())"
   ]
  },
  {
   "cell_type": "code",
   "execution_count": null,
   "metadata": {},
   "outputs": [],
   "source": [
    "'''\n",
    "Como o proprio nome já diz, vamos usar essa função para pegar os k vizinhos similares do vetor test na \n",
    "matriz train.\n",
    "'''"
   ]
  },
  {
   "cell_type": "code",
   "execution_count": 32,
   "metadata": {},
   "outputs": [],
   "source": [
    "def get_neighbors(train, test, k):\n",
    "    distances = list()\n",
    "    for row in train:\n",
    "        dist = distance(row, test)\n",
    "        distances.append((row, dist))\n",
    "    distances.sort(key=lambda tup: tup[1])\n",
    "    neighbors = list()\n",
    "    for neighbor in range(k):\n",
    "        neighbors.append(distances[neighbor][0])\n",
    "    return neighbors"
   ]
  },
  {
   "cell_type": "code",
   "execution_count": 18,
   "metadata": {},
   "outputs": [
    {
     "data": {
      "text/plain": [
       "'\\n\\n'"
      ]
     },
     "execution_count": 18,
     "metadata": {},
     "output_type": "execute_result"
    }
   ],
   "source": [
    "'''\n",
    "Essa função irá classificar nosso dado de test em uma das classes de treino de acordo com o k\n",
    "'''"
   ]
  },
  {
   "cell_type": "code",
   "execution_count": 34,
   "metadata": {},
   "outputs": [],
   "source": [
    "def prediction_classification(train, test, k):\n",
    "    neighbors = get_neighbors(train, test, k)\n",
    "    output_values = [row[-1] for row in neighbors]\n",
    "    prediction = max(set(output_values), key=output_values.count)\n",
    "    return prediction"
   ]
  },
  {
   "cell_type": "code",
   "execution_count": null,
   "metadata": {},
   "outputs": [],
   "source": [
    "'''\n",
    "Dado um conjunto de dados de test vamos realizar a classificação de acordo com os nosso dados de treino chamando a\n",
    "função KNN\n",
    "'''"
   ]
  },
  {
   "cell_type": "code",
   "execution_count": 35,
   "metadata": {},
   "outputs": [],
   "source": [
    "def KNN(train, test, k):\n",
    "    predictions = list()\n",
    "    for row in test:\n",
    "        predictions.append((row, prediction_classification(train, row, k)))\n",
    "    return predictions"
   ]
  },
  {
   "cell_type": "code",
   "execution_count": 40,
   "metadata": {},
   "outputs": [
    {
     "name": "stdout",
     "output_type": "stream",
     "text": [
      "[(['1', '2', '4', '4', '2', '2', '1', '4', '2', '1'], 'Corvinal'), (['3', '1', '3', '3', '4', '1', '1', '4', '1', '2'], 'Corvinal'), (['3', '4', '2', '1', '3', '1', '3', '4', '3', '1'], 'Grifinoria'), (['2', '3', '4', '4', '2', '3', '3', '2', '1', '1'], 'Corvinal'), (['4', '4', '1', '1', '4', '2', '1', '2', '2', '1'], 'Grifinoria'), (['4', '4', '4', '4', '2', '3', '2', '4', '3', '3'], 'Corvinal'), (['3', '1', '2', '4', '2', '1', '1', '2', '3', '3'], 'Grifinoria'), (['3', '1', '1', '2', '1', '2', '2', '2', '3', '2'], 'Grifinoria'), (['3', '4', '3', '4', '1', '4', '1', '1', '1', '2'], 'Grifinoria'), (['3', '1', '2', '1', '3', '1', '1', '4', '2', '3'], 'Grifinoria')]\n"
     ]
    }
   ],
   "source": [
    "k = 3\n",
    "print(KNN(train_data, test_data, k))   "
   ]
  },
  {
   "cell_type": "code",
   "execution_count": null,
   "metadata": {},
   "outputs": [],
   "source": [
    "'''\n",
    "Vamos usar a biblioteca do pandas para carregar nossas questões em um dataframe com um delibitador diferente\n",
    "'''"
   ]
  },
  {
   "cell_type": "code",
   "execution_count": 19,
   "metadata": {},
   "outputs": [],
   "source": [
    "pd.options.display.max_colwidth = 1000\n",
    "questions = pd.read_csv('./questions.csv', sep=';'  , engine='python')"
   ]
  },
  {
   "cell_type": "code",
   "execution_count": null,
   "metadata": {},
   "outputs": [],
   "source": [
    "'''\n",
    "O código abaixo é um quiz para saber qual Casa você pertence. Execute todos os passo anteriores em ordem\n",
    "e depois execute este passo e divirta-se.\n",
    "'''"
   ]
  },
  {
   "cell_type": "code",
   "execution_count": null,
   "metadata": {},
   "outputs": [],
   "source": [
    "name = input(\"Seu nome é? \")\n",
    "answers = list()\n",
    "for index, row in questions.iterrows():\n",
    "    print(row)\n",
    "    answer = \"0\"\n",
    "    while answer not in [\"1\", \"2\", \"3\", \"4\"]:\n",
    "        answer = input(\"\\nDigite o número de sua resposta: \")\n",
    "        if answer not in [\"1\", \"2\", \"3\", \"4\"]:\n",
    "            print(\"\\nResposta inválida! Selecione uma opção de 1 a 4!\\n\")\n",
    "    answers.append(float(answer))\n",
    "print(answers)\n",
    "print(\"\\nKNN Seletor: Difícil. Muito difícil. Tem muita coragem, estou vendo. Uma mente nada má também.\\n Tem talento, se tem. E uma sede de provar seu valor. \\nMas onde vou colocá-lo?\")\n",
    "label = prediction_classification(train_data, answers, k)\n",
    "str_column_to_int(train_data, len(train_data[0])-1)\n",
    "print(\"\\nKNN Seletor: Não? Tem certeza? \\nVocê poderia ser grande, sabia? Está tudo aqui, na sua cabeça. \\nE iria ajudá-lo a alcançar essa grandeza. Não há dúvida sobre isso. Não?\")\n",
    "print(\"\\nBom, se tem certeza... é melhor que seja...\\n\")\n",
    "print('\\nA partir de hoje você se chamará %s de %s' % (name, label))"
   ]
  },
  {
   "cell_type": "code",
   "execution_count": null,
   "metadata": {},
   "outputs": [],
   "source": [
    "#Ref.:\n",
    "#https://machinelearningmastery.com/tutorial-to-implement-k-nearest-neighbors-in-python-from-scratch/\n",
    "#https://aminoapps.com/c/potter-amino-em-portugues/page/blog/teste-das-casas/g7pG_0et6u738kQkMz5kYNRNK7pDjeBze"
   ]
  }
 ],
 "metadata": {
  "kernelspec": {
   "display_name": "Python 3",
   "language": "python",
   "name": "python3"
  },
  "language_info": {
   "codemirror_mode": {
    "name": "ipython",
    "version": 3
   },
   "file_extension": ".py",
   "mimetype": "text/x-python",
   "name": "python",
   "nbconvert_exporter": "python",
   "pygments_lexer": "ipython3",
   "version": "3.7.6"
  }
 },
 "nbformat": 4,
 "nbformat_minor": 4
}
